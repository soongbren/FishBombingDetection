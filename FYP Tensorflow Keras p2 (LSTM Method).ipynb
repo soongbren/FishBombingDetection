{
 "cells": [
  {
   "cell_type": "code",
   "execution_count": 43,
   "metadata": {},
   "outputs": [
    {
     "name": "stdout",
     "output_type": "stream",
     "text": [
      "C:\\Users\\soong\\Anaconda3\\lib\\site-packages\\tensorflow\\__init__.py\n",
      "C:\\Users\\soong\\Anaconda3\\lib\\site-packages\\tensorflow\\keras\\__init__.py\n"
     ]
    }
   ],
   "source": [
    "from os import listdir\n",
    "from os.path import isdir, join\n",
    "import tensorflow\n",
    "from tensorflow.keras import layers, models\n",
    "import numpy as np\n",
    "\n",
    "print(tensorflow.__file__)\n",
    "print(tensorflow.keras.__file__)"
   ]
  },
  {
   "cell_type": "code",
   "execution_count": 160,
   "metadata": {},
   "outputs": [
    {
     "name": "stdout",
     "output_type": "stream",
     "text": [
      "['Explosion', 'Noise']\n"
     ]
    }
   ],
   "source": [
    "# Create list of all targets (minus background noise)\n",
    "dataset_path = \"C:\\\\Users\\\\soong\\\\OneDrive\\\\Desktop\\\\DEEP LEARNING FYP\\\\Training_LATEST\\\\Dataset\"\n",
    "all_targets = all_targets = [name for name in listdir(dataset_path) if isdir(join(dataset_path, name))]\n",
    "print(all_targets)"
   ]
  },
  {
   "cell_type": "code",
   "execution_count": 27,
   "metadata": {},
   "outputs": [],
   "source": [
    "# Settings\n",
    "feature_sets_path = \"C:\\\\Users\\\\soong\"\n",
    "feature_sets_filename = 'all_targets_mfcc_sets.npz'\n",
    "model_filename = 'fyp_explosion_model.h5'\n",
    "explosion_signal = 'Explosion'"
   ]
  },
  {
   "cell_type": "code",
   "execution_count": 22,
   "metadata": {},
   "outputs": [
    {
     "name": "stdout",
     "output_type": "stream",
     "text": [
      "['x_train', 'y_train', 'x_val', 'y_val', 'x_test', 'y_test']\n"
     ]
    }
   ],
   "source": [
    "# Load feature sets\n",
    "feature_sets = np.load(join(feature_sets_path, feature_sets_filename))\n",
    "print(feature_sets.files)"
   ]
  },
  {
   "cell_type": "code",
   "execution_count": 23,
   "metadata": {},
   "outputs": [],
   "source": [
    "# Assign feature sets\n",
    "x_train = feature_sets['x_train']\n",
    "y_train = feature_sets['y_train']\n",
    "x_val = feature_sets['x_val']\n",
    "y_val = feature_sets['y_val']\n",
    "x_test = feature_sets['x_test']\n",
    "y_test = feature_sets['y_test']"
   ]
  },
  {
   "cell_type": "code",
   "execution_count": 24,
   "metadata": {},
   "outputs": [
    {
     "name": "stdout",
     "output_type": "stream",
     "text": [
      "(10620, 16, 31)\n",
      "(5310, 16, 31)\n",
      "(1770, 16, 31)\n"
     ]
    }
   ],
   "source": [
    "# Look at tensor dimensions\n",
    "print(x_train.shape)\n",
    "print(x_val.shape)\n",
    "print(x_test.shape)"
   ]
  },
  {
   "cell_type": "code",
   "execution_count": 25,
   "metadata": {},
   "outputs": [
    {
     "name": "stdout",
     "output_type": "stream",
     "text": [
      "[0. 0. 0. ... 0. 1. 1.]\n"
     ]
    }
   ],
   "source": [
    "# Peek at labels\n",
    "print(y_val)"
   ]
  },
  {
   "cell_type": "code",
   "execution_count": 120,
   "metadata": {},
   "outputs": [
    {
     "name": "stdout",
     "output_type": "stream",
     "text": [
      "[0. 0. 0. ... 0. 0. 1.]\n",
      "[0. 0. 0. ... 0. 0. 1.]\n",
      "[0. 0. 0. ... 0. 1. 1.]\n"
     ]
    }
   ],
   "source": [
    "# Convert ground truth arrays to one wake word (1) and 'other' (0)\n",
    "explosion_signal_index = all_targets.index(explosion_signal)\n",
    "y_train = np.equal(y_train, explosion_signal_index).astype('float64')\n",
    "y_val = np.equal(y_val, explosion_signal_index).astype('float64')\n",
    "y_test = np.equal(y_test, explosion_signal_index).astype('float64')\n",
    "\n",
    "print(y_train)\n",
    "print(y_train)\n",
    "print(y_val)"
   ]
  },
  {
   "cell_type": "code",
   "execution_count": 30,
   "metadata": {},
   "outputs": [
    {
     "name": "stdout",
     "output_type": "stream",
     "text": [
      "0.848210922787194\n",
      "0.151789077212806\n"
     ]
    }
   ],
   "source": [
    "# What percentage of 'Explosion' appear in validation labels\n",
    "print(sum(y_val) / len(y_val))\n",
    "print(1 - sum(y_val) / len(y_val))"
   ]
  },
  {
   "cell_type": "code",
   "execution_count": 94,
   "metadata": {},
   "outputs": [
    {
     "name": "stdout",
     "output_type": "stream",
     "text": [
      "(10620, 16, 31)\n"
     ]
    }
   ],
   "source": [
    "# View the dimensions of our input data\n",
    "print(x_train.shape)"
   ]
  },
  {
   "cell_type": "code",
   "execution_count": 145,
   "metadata": {},
   "outputs": [
    {
     "name": "stdout",
     "output_type": "stream",
     "text": [
      "(10620, 31, 16)\n",
      "(5310, 31, 16)\n",
      "(1770, 31, 16)\n",
      "(31, 16)\n"
     ]
    }
   ],
   "source": [
    "# CNN for TF expects (batch, height, width, channels)\n",
    "# So we reshape the input tensors with a \"color\" channel of 1\n",
    "x_train = x_train.reshape(x_train.shape[0], \n",
    "                          x_train.shape[2], \n",
    "                          x_train.shape[1] \n",
    "                          )\n",
    "x_val = x_val.reshape(x_val.shape[0], \n",
    "                      x_val.shape[2], \n",
    "                      x_val.shape[1] \n",
    "                      )\n",
    "x_test = x_test.reshape(x_test.shape[0], \n",
    "                        x_test.shape[2], \n",
    "                        x_test.shape[1] \n",
    "                        )\n",
    "print(x_train.shape)\n",
    "print(x_val.shape)\n",
    "print(x_test.shape)\n",
    "\n",
    "\n",
    "# Input shape for CNN is size of MFCC of 1 sample\n",
    "sample_shape = x_test.shape[1:]\n",
    "print(sample_shape)\n"
   ]
  },
  {
   "cell_type": "code",
   "execution_count": 146,
   "metadata": {},
   "outputs": [],
   "source": [
    "# Build network topology\n",
    "model = models.Sequential()\n",
    "\n",
    "# Bi-LSTM layer\n",
    "#model.add(layers.Bidirectional(layers.LSTM(64, input_shape=(31,16), return_sequences=True))) # (timesteps, no. of features)\n",
    "model.add(layers.LSTM(64, input_shape=(31,16), return_sequences=True)) # (timesteps, no. of features)\n",
    "model.add(layers.LSTM(64))\n",
    "\n",
    "# dense layer\n",
    "model.add(layers.Dense(64,activation='relu')) \n",
    "model.add(layers.Dropout(0.3)) # mitigate over-fitting\n",
    "\n",
    "# output layer\n",
    "model.add(layers.Dense(2, activation='softmax'))\n",
    "    "
   ]
  },
  {
   "cell_type": "code",
   "execution_count": 147,
   "metadata": {},
   "outputs": [
    {
     "name": "stdout",
     "output_type": "stream",
     "text": [
      "Model: \"sequential_30\"\n",
      "_________________________________________________________________\n",
      "Layer (type)                 Output Shape              Param #   \n",
      "=================================================================\n",
      "lstm_21 (LSTM)               (None, 31, 64)            20736     \n",
      "_________________________________________________________________\n",
      "lstm_22 (LSTM)               (None, 64)                33024     \n",
      "_________________________________________________________________\n",
      "dense_42 (Dense)             (None, 64)                4160      \n",
      "_________________________________________________________________\n",
      "dropout_21 (Dropout)         (None, 64)                0         \n",
      "_________________________________________________________________\n",
      "dense_43 (Dense)             (None, 2)                 130       \n",
      "=================================================================\n",
      "Total params: 58,050\n",
      "Trainable params: 58,050\n",
      "Non-trainable params: 0\n",
      "_________________________________________________________________\n",
      "None\n"
     ]
    }
   ],
   "source": [
    "# create network\n",
    "input_shape = (1,31,16) \n",
    "model.build(input_shape)\n",
    "\n",
    "# compile model\n",
    "optimiser = tensorflow.optimizers.Adam(learning_rate=0.0001)\n",
    "model.compile(optimizer=optimiser, loss='sparse_categorical_crossentropy', metrics=['accuracy'])\n",
    "print(model.summary())"
   ]
  },
  {
   "cell_type": "code",
   "execution_count": 149,
   "metadata": {},
   "outputs": [
    {
     "name": "stdout",
     "output_type": "stream",
     "text": [
      "Epoch 1/30\n",
      "664/664 [==============================] - 15s 23ms/step - loss: 9.4851e-09 - accuracy: 1.0000 - val_loss: 0.0000e+00 - val_accuracy: 1.0000\n",
      "Epoch 2/30\n",
      "664/664 [==============================] - 17s 26ms/step - loss: 6.3982e-09 - accuracy: 1.0000 - val_loss: 0.0000e+00 - val_accuracy: 1.0000\n",
      "Epoch 3/30\n",
      "664/664 [==============================] - 17s 26ms/step - loss: 3.8951e-09 - accuracy: 1.0000 - val_loss: 0.0000e+00 - val_accuracy: 1.0000\n",
      "Epoch 4/30\n",
      "664/664 [==============================] - 18s 27ms/step - loss: 9.9789e-09 - accuracy: 1.0000 - val_loss: 0.0000e+00 - val_accuracy: 1.0000\n",
      "Epoch 5/30\n",
      "664/664 [==============================] - 17s 26ms/step - loss: 1.1348e-08 - accuracy: 1.0000 - val_loss: 0.0000e+00 - val_accuracy: 1.0000\n",
      "Epoch 6/30\n",
      "664/664 [==============================] - 18s 27ms/step - loss: 1.6837e-09 - accuracy: 1.0000 - val_loss: 0.0000e+00 - val_accuracy: 1.0000\n",
      "Epoch 7/30\n",
      "664/664 [==============================] - 18s 27ms/step - loss: 1.3470e-09 - accuracy: 1.0000 - val_loss: 0.0000e+00 - val_accuracy: 1.0000\n",
      "Epoch 8/30\n",
      "664/664 [==============================] - 17s 26ms/step - loss: 2.8062e-09 - accuracy: 1.0000 - val_loss: 0.0000e+00 - val_accuracy: 1.0000\n",
      "Epoch 9/30\n",
      "664/664 [==============================] - 18s 26ms/step - loss: 1.0674e-08 - accuracy: 1.0000 - val_loss: 0.0000e+00 - val_accuracy: 1.0000\n",
      "Epoch 10/30\n",
      "664/664 [==============================] - 17s 26ms/step - loss: 3.9287e-09 - accuracy: 1.0000 - val_loss: 0.0000e+00 - val_accuracy: 1.0000\n",
      "Epoch 11/30\n",
      "664/664 [==============================] - 18s 27ms/step - loss: 1.1000e-09 - accuracy: 1.0000 - val_loss: 0.0000e+00 - val_accuracy: 1.0000\n",
      "Epoch 12/30\n",
      "664/664 [==============================] - 18s 27ms/step - loss: 8.9800e-10 - accuracy: 1.0000 - val_loss: 0.0000e+00 - val_accuracy: 1.0000\n",
      "Epoch 13/30\n",
      "664/664 [==============================] - 18s 26ms/step - loss: 1.9419e-09 - accuracy: 1.0000 - val_loss: 0.0000e+00 - val_accuracy: 1.0000\n",
      "Epoch 14/30\n",
      "664/664 [==============================] - 18s 27ms/step - loss: 2.0766e-09 - accuracy: 1.0000 - val_loss: 0.0000e+00 - val_accuracy: 1.0000\n",
      "Epoch 15/30\n",
      "664/664 [==============================] - 18s 28ms/step - loss: 1.4031e-09 - accuracy: 1.0000 - val_loss: 0.0000e+00 - val_accuracy: 1.0000\n",
      "Epoch 16/30\n",
      "664/664 [==============================] - 18s 27ms/step - loss: 1.6501e-09 - accuracy: 1.0000 - val_loss: 0.0000e+00 - val_accuracy: 1.0000\n",
      "Epoch 17/30\n",
      "664/664 [==============================] - 18s 27ms/step - loss: 1.9195e-09 - accuracy: 1.0000 - val_loss: 0.0000e+00 - val_accuracy: 1.0000\n",
      "Epoch 18/30\n",
      "664/664 [==============================] - 18s 27ms/step - loss: 7.8575e-10 - accuracy: 1.0000 - val_loss: 0.0000e+00 - val_accuracy: 1.0000\n",
      "Epoch 19/30\n",
      "664/664 [==============================] - 18s 27ms/step - loss: 5.7247e-10 - accuracy: 1.0000 - val_loss: 0.0000e+00 - val_accuracy: 1.0000\n",
      "Epoch 20/30\n",
      "664/664 [==============================] - 17s 26ms/step - loss: 1.9082e-09 - accuracy: 1.0000 - val_loss: 0.0000e+00 - val_accuracy: 1.0000\n",
      "Epoch 21/30\n",
      "664/664 [==============================] - 17s 26ms/step - loss: 9.9902e-10 - accuracy: 1.0000 - val_loss: 0.0000e+00 - val_accuracy: 1.0000\n",
      "Epoch 22/30\n",
      "664/664 [==============================] - 18s 27ms/step - loss: 1.3582e-09 - accuracy: 1.0000 - val_loss: 0.0000e+00 - val_accuracy: 1.0000\n",
      "Epoch 23/30\n",
      "664/664 [==============================] - 18s 27ms/step - loss: 1.1449e-09 - accuracy: 1.0000 - val_loss: 0.0000e+00 - val_accuracy: 1.0000\n",
      "Epoch 24/30\n",
      "664/664 [==============================] - 17s 26ms/step - loss: 2.6154e-09 - accuracy: 1.0000 - val_loss: 0.0000e+00 - val_accuracy: 1.0000\n",
      "Epoch 25/30\n",
      "664/664 [==============================] - 17s 26ms/step - loss: 3.9287e-10 - accuracy: 1.0000 - val_loss: 0.0000e+00 - val_accuracy: 1.0000\n",
      "Epoch 26/30\n",
      "664/664 [==============================] - 18s 27ms/step - loss: 7.6330e-10 - accuracy: 1.0000 - val_loss: 0.0000e+00 - val_accuracy: 1.0000\n",
      "Epoch 27/30\n",
      "664/664 [==============================] - 18s 27ms/step - loss: 1.6837e-10 - accuracy: 1.0000 - val_loss: 0.0000e+00 - val_accuracy: 1.0000\n",
      "Epoch 28/30\n",
      "664/664 [==============================] - 18s 27ms/step - loss: 3.5920e-10 - accuracy: 1.0000 - val_loss: 0.0000e+00 - val_accuracy: 1.0000\n",
      "Epoch 29/30\n",
      "664/664 [==============================] - 18s 27ms/step - loss: 4.1532e-10 - accuracy: 1.0000 - val_loss: 0.0000e+00 - val_accuracy: 1.0000\n",
      "Epoch 30/30\n",
      "664/664 [==============================] - 18s 27ms/step - loss: 8.8677e-10 - accuracy: 1.0000 - val_loss: 0.0000e+00 - val_accuracy: 1.0000\n"
     ]
    }
   ],
   "source": [
    "history = model.fit(x_train, y_train, validation_data=(x_val,y_val), epochs=30, batch_size=16)"
   ]
  },
  {
   "cell_type": "raw",
   "metadata": {},
   "source": []
  },
  {
   "cell_type": "code",
   "execution_count": 151,
   "metadata": {},
   "outputs": [
    {
     "data": {
      "image/png": "[encoded data removed]",
      "text/plain": [
       "<Figure size 432x288 with 1 Axes>"
      ]
     },
     "metadata": {
      "needs_background": "light"
     },
     "output_type": "display_data"
    },
    {
     "data": {
      "image/png": "[encoded data removed]",
      "text/plain": [
       "<Figure size 432x288 with 1 Axes>"
      ]
     },
     "metadata": {
      "needs_background": "light"
     },
     "output_type": "display_data"
    }
   ],
   "source": [
    "# Plot results\n",
    "import matplotlib.pyplot as plt\n",
    "\n",
    "acc = history.history['accuracy']\n",
    "val_acc = history.history['val_accuracy']\n",
    "loss = history.history['loss']\n",
    "val_loss = history.history['val_loss']\n",
    "\n",
    "epochs = range(1, len(acc) + 1)\n",
    "\n",
    "plt.plot(epochs, acc, 'bo', label='Training acc')\n",
    "plt.plot(epochs, val_acc, 'b', label='Validation acc')\n",
    "plt.title('Training and validation accuracy')\n",
    "plt.legend()\n",
    "\n",
    "plt.figure()\n",
    "\n",
    "plt.plot(epochs, loss, 'bo', label='Training loss')\n",
    "plt.plot(epochs, val_loss, 'b', label='Validation loss')\n",
    "plt.title('Training and validation loss')\n",
    "plt.legend()\n",
    "\n",
    "plt.show()"
   ]
  },
  {
   "cell_type": "code",
   "execution_count": 154,
   "metadata": {},
   "outputs": [],
   "source": [
    "# Save the model as a file\n",
    "models.save_model(model, model_filename)"
   ]
  },
  {
   "cell_type": "code",
   "execution_count": 155,
   "metadata": {},
   "outputs": [
    {
     "name": "stdout",
     "output_type": "stream",
     "text": [
      "4\n",
      "5\n",
      "8\n",
      "13\n",
      "17\n",
      "19\n",
      "20\n",
      "21\n",
      "37\n",
      "40\n",
      "43\n",
      "46\n",
      "103\n",
      "104\n",
      "106\n",
      "111\n",
      "113\n",
      "119\n",
      "136\n",
      "142\n",
      "146\n",
      "154\n",
      "167\n",
      "172\n",
      "175\n",
      "180\n",
      "185\n",
      "187\n",
      "202\n",
      "203\n",
      "206\n",
      "211\n",
      "216\n",
      "240\n",
      "242\n",
      "244\n",
      "246\n",
      "256\n",
      "259\n",
      "269\n",
      "283\n",
      "293\n",
      "304\n",
      "310\n",
      "311\n",
      "314\n",
      "322\n",
      "344\n",
      "363\n",
      "370\n",
      "373\n",
      "374\n",
      "379\n",
      "390\n",
      "394\n",
      "396\n",
      "400\n",
      "416\n",
      "418\n",
      "423\n",
      "424\n",
      "426\n",
      "428\n",
      "440\n",
      "448\n",
      "449\n",
      "460\n",
      "463\n",
      "470\n",
      "483\n",
      "484\n",
      "489\n",
      "497\n",
      "498\n",
      "505\n",
      "512\n",
      "522\n",
      "532\n",
      "537\n",
      "543\n",
      "548\n",
      "552\n",
      "560\n",
      "564\n",
      "570\n",
      "575\n",
      "582\n",
      "586\n",
      "590\n",
      "597\n",
      "598\n",
      "600\n",
      "601\n",
      "604\n",
      "618\n",
      "623\n",
      "625\n",
      "628\n",
      "629\n",
      "634\n",
      "636\n",
      "637\n",
      "644\n",
      "650\n",
      "657\n",
      "680\n",
      "682\n",
      "693\n",
      "698\n",
      "701\n",
      "703\n",
      "708\n",
      "712\n",
      "714\n",
      "718\n",
      "721\n",
      "722\n",
      "730\n",
      "731\n",
      "732\n",
      "734\n",
      "740\n",
      "751\n",
      "758\n",
      "770\n",
      "781\n",
      "786\n",
      "793\n",
      "801\n",
      "820\n",
      "829\n",
      "835\n",
      "837\n",
      "840\n",
      "861\n",
      "875\n",
      "876\n",
      "879\n",
      "881\n",
      "892\n",
      "914\n",
      "919\n",
      "921\n",
      "927\n",
      "929\n",
      "930\n",
      "934\n",
      "935\n",
      "936\n",
      "946\n",
      "948\n",
      "954\n",
      "962\n",
      "966\n",
      "969\n",
      "971\n",
      "972\n",
      "984\n",
      "988\n",
      "992\n",
      "995\n",
      "997\n",
      "1009\n",
      "1024\n",
      "1045\n",
      "1064\n",
      "1071\n",
      "1072\n",
      "1091\n",
      "1097\n",
      "1106\n",
      "1111\n",
      "1116\n",
      "1134\n",
      "1135\n",
      "1139\n",
      "1143\n",
      "1160\n",
      "1180\n",
      "1200\n",
      "1201\n",
      "1203\n",
      "1204\n",
      "1216\n",
      "1218\n",
      "1223\n",
      "1256\n",
      "1274\n",
      "1277\n",
      "1299\n",
      "1316\n",
      "1318\n",
      "1328\n",
      "1337\n",
      "1340\n",
      "1341\n",
      "1345\n",
      "1348\n",
      "1354\n",
      "1358\n",
      "1359\n",
      "1370\n",
      "1381\n",
      "1387\n",
      "1395\n",
      "1398\n",
      "1405\n",
      "1413\n",
      "1414\n",
      "1417\n",
      "1435\n",
      "1449\n",
      "1451\n",
      "1453\n",
      "1457\n",
      "1471\n",
      "1482\n",
      "1483\n",
      "1495\n",
      "1499\n",
      "1503\n",
      "1511\n",
      "1513\n",
      "1514\n",
      "1518\n",
      "1547\n",
      "1555\n",
      "1567\n",
      "1570\n",
      "1599\n",
      "1603\n",
      "1607\n",
      "1621\n",
      "1629\n",
      "1639\n",
      "1640\n",
      "1660\n",
      "1671\n",
      "1674\n",
      "1681\n",
      "1693\n",
      "1701\n",
      "1706\n",
      "1713\n",
      "1725\n",
      "1754\n",
      "1761\n",
      "1762\n",
      "1765\n",
      "1767\n"
     ]
    }
   ],
   "source": [
    "# See which are 'Explosion'\n",
    "for idx, y in enumerate(y_test):\n",
    "    if y == 1:\n",
    "        print(idx)"
   ]
  },
  {
   "cell_type": "code",
   "execution_count": 158,
   "metadata": {},
   "outputs": [
    {
     "name": "stdout",
     "output_type": "stream",
     "text": [
      "56/56 [==============================] - 0s 7ms/step - loss: 0.0000e+00 - accuracy: 1.0000\n"
     ]
    },
    {
     "data": {
      "text/plain": [
       "[0.0, 1.0]"
      ]
     },
     "execution_count": 158,
     "metadata": {},
     "output_type": "execute_result"
    }
   ],
   "source": [
    "# Evaluate model with test set\n",
    "model.evaluate(x=x_test, y=y_test)"
   ]
  },
  {
   "cell_type": "code",
   "execution_count": null,
   "metadata": {},
   "outputs": [],
   "source": [
    "X = wavread()"
   ]
  }
 ],
 "metadata": {
  "kernelspec": {
   "display_name": "Python 3",
   "language": "python",
   "name": "python3"
  },
  "language_info": {
   "codemirror_mode": {
    "name": "ipython",
    "version": 3
   },
   "file_extension": ".py",
   "mimetype": "text/x-python",
   "name": "python",
   "nbconvert_exporter": "python",
   "pygments_lexer": "ipython3",
   "version": "3.7.10"
  }
 },
 "nbformat": 4,
 "nbformat_minor": 2
}
