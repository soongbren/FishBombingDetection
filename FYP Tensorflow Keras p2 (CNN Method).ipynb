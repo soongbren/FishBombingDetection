{
 "cells": [
  {
   "cell_type": "code",
   "execution_count": 1,
   "metadata": {},
   "outputs": [
    {
     "name": "stdout",
     "output_type": "stream",
     "text": [
      "C:\\Users\\soong\\Anaconda3\\envs\\tensorflow\\lib\\site-packages\\tensorflow\\__init__.py\n",
      "C:\\Users\\soong\\Anaconda3\\envs\\tensorflow\\lib\\site-packages\\tensorflow\\keras\\__init__.py\n"
     ]
    }
   ],
   "source": [
    "from os import listdir\n",
    "from os.path import isdir, join\n",
    "import tensorflow\n",
    "from tensorflow.keras import layers, models\n",
    "import numpy as np\n",
    "\n",
    "print(tensorflow.__file__)\n",
    "print(tensorflow.keras.__file__)"
   ]
  },
  {
   "cell_type": "code",
   "execution_count": 2,
   "metadata": {},
   "outputs": [
    {
     "name": "stdout",
     "output_type": "stream",
     "text": [
      "['0_Noise', '1_Explosion']\n"
     ]
    }
   ],
   "source": [
    "# Create list of all targets (minus background noise)\n",
    "dataset_path = \"C:\\\\Users\\\\soong\\\\OneDrive\\\\Desktop\\\\DEEP LEARNING FYP\\\\Training_LATEST\\\\Dataset\"\n",
    "all_targets = all_targets = [name for name in listdir(dataset_path) if isdir(join(dataset_path, name))]\n",
    "print(all_targets)"
   ]
  },
  {
   "cell_type": "code",
   "execution_count": null,
   "metadata": {},
   "outputs": [],
   "source": [
    "# Other Testing dataset\n",
    "\n",
    "testing_path = \n"
   ]
  },
  {
   "cell_type": "code",
   "execution_count": 3,
   "metadata": {},
   "outputs": [],
   "source": [
    "# Settings\n",
    "feature_sets_path = \"C:\\\\Users\\\\soong\"\n",
    "feature_sets_filename = 'all_targets_mfcc_sets.npz'\n",
    "model_filename = 'fyp_explosion_CNN_model.h5'\n",
    "explosion_signal = '1_Explosion'"
   ]
  },
  {
   "cell_type": "code",
   "execution_count": 4,
   "metadata": {},
   "outputs": [
    {
     "name": "stdout",
     "output_type": "stream",
     "text": [
      "['x_train', 'y_train', 'x_val', 'y_val', 'x_test', 'y_test']\n"
     ]
    }
   ],
   "source": [
    "# Load feature sets\n",
    "feature_sets = np.load(join(feature_sets_path, feature_sets_filename))\n",
    "print(feature_sets.files)"
   ]
  },
  {
   "cell_type": "code",
   "execution_count": 5,
   "metadata": {},
   "outputs": [],
   "source": [
    "# Assign feature sets\n",
    "x_train = feature_sets['x_train']\n",
    "y_train = feature_sets['y_train']\n",
    "x_val = feature_sets['x_val']\n",
    "y_val = feature_sets['y_val']\n",
    "x_test = feature_sets['x_test']\n",
    "y_test = feature_sets['y_test']"
   ]
  },
  {
   "cell_type": "code",
   "execution_count": 6,
   "metadata": {},
   "outputs": [
    {
     "name": "stdout",
     "output_type": "stream",
     "text": [
      "(10620, 16, 28)\n",
      "(5310, 16, 28)\n",
      "(1770, 16, 28)\n"
     ]
    }
   ],
   "source": [
    "# Look at tensor dimensions\n",
    "print(x_train.shape)\n",
    "print(x_val.shape)\n",
    "print(x_test.shape)"
   ]
  },
  {
   "cell_type": "code",
   "execution_count": 7,
   "metadata": {},
   "outputs": [
    {
     "name": "stdout",
     "output_type": "stream",
     "text": [
      "[1. 0. 1. ... 1. 1. 1.]\n"
     ]
    }
   ],
   "source": [
    "# Peek at labels\n",
    "print(y_val)"
   ]
  },
  {
   "cell_type": "code",
   "execution_count": 8,
   "metadata": {},
   "outputs": [
    {
     "name": "stdout",
     "output_type": "stream",
     "text": [
      "[1. 1. 0. ... 1. 1. 1.]\n",
      "[1. 1. 0. ... 1. 1. 1.]\n",
      "[1. 0. 1. ... 1. 1. 1.]\n"
     ]
    }
   ],
   "source": [
    "# Convert ground truth arrays to one wake word (1) and 'other' (0)\n",
    "explosion_signal_index = all_targets.index(explosion_signal)\n",
    "y_train = np.equal(y_train, explosion_signal_index).astype('float64')\n",
    "y_val = np.equal(y_val, explosion_signal_index).astype('float64')\n",
    "y_test = np.equal(y_test, explosion_signal_index).astype('float64')\n",
    "\n",
    "print(y_train)\n",
    "print(y_train)\n",
    "print(y_val)"
   ]
  },
  {
   "cell_type": "code",
   "execution_count": 9,
   "metadata": {},
   "outputs": [
    {
     "name": "stdout",
     "output_type": "stream",
     "text": [
      "0.8495291902071563\n",
      "0.15047080979284366\n"
     ]
    }
   ],
   "source": [
    "# What percentage of 'Explosion' appear in validation labels\n",
    "print(sum(y_val) / len(y_val))\n",
    "print(1 - sum(y_val) / len(y_val))"
   ]
  },
  {
   "cell_type": "code",
   "execution_count": 10,
   "metadata": {},
   "outputs": [
    {
     "name": "stdout",
     "output_type": "stream",
     "text": [
      "(10620, 16, 28)\n"
     ]
    }
   ],
   "source": [
    "# View the dimensions of our input data\n",
    "print(x_train.shape)"
   ]
  },
  {
   "cell_type": "code",
   "execution_count": 11,
   "metadata": {},
   "outputs": [
    {
     "name": "stdout",
     "output_type": "stream",
     "text": [
      "(10620, 16, 28, 1)\n",
      "(5310, 16, 28, 1)\n",
      "(1770, 16, 28, 1)\n"
     ]
    }
   ],
   "source": [
    "# CNN for TF expects (batch, height, width, channels)\n",
    "# So we reshape the input tensors with a \"color\" channel of 1\n",
    "\n",
    "x_train = x_train.reshape(x_train.shape[0], \n",
    "                          x_train.shape[1], \n",
    "                          x_train.shape[2], \n",
    "                          1)\n",
    "x_val = x_val.reshape(x_val.shape[0], \n",
    "                      x_val.shape[1], \n",
    "                      x_val.shape[2], \n",
    "                      1)\n",
    "x_test = x_test.reshape(x_test.shape[0], \n",
    "                        x_test.shape[1], \n",
    "                        x_test.shape[2], \n",
    "                        1)\n",
    "print(x_train.shape)\n",
    "print(x_val.shape)\n",
    "print(x_test.shape)"
   ]
  },
  {
   "cell_type": "code",
   "execution_count": 12,
   "metadata": {},
   "outputs": [
    {
     "name": "stdout",
     "output_type": "stream",
     "text": [
      "(16, 28, 1)\n"
     ]
    }
   ],
   "source": [
    "# Input shape for CNN is size of MFCC of 1 sample\n",
    "sample_shape = x_test.shape[1:]\n",
    "print(sample_shape)"
   ]
  },
  {
   "cell_type": "code",
   "execution_count": 13,
   "metadata": {},
   "outputs": [],
   "source": [
    "# Build model\n",
    "# Based on: https://www.geeksforgeeks.org/python-image-classification-using-keras/\n",
    "#32 nodes in 1st conv layer (32 differnt filtered images), window of 2x2 pixels for sliding window convolution\n",
    "# relu sets -ve values to zero, max pool reduces feature size by downsmapling, saves computation for next layer\n",
    "\n",
    "model = models.Sequential()\n",
    "model.add(layers.Conv2D(32, (2, 2), activation='relu',input_shape=sample_shape)) \n",
    "model.add(layers.MaxPooling2D(pool_size=(2, 2)))    \n",
    "\n",
    "model.add(layers.Conv2D(32, (2, 2), activation='relu'))\n",
    "model.add(layers.MaxPooling2D(pool_size=(2, 2)))\n",
    "\n",
    "model.add(layers.Conv2D(64, (2, 2), activation='relu'))\n",
    "model.add(layers.MaxPooling2D(pool_size=(2, 2)))\n",
    "\n",
    "# Classifier\n",
    "model.add(layers.Flatten())\n",
    "model.add(layers.Dense(64, activation='relu'))\n",
    "model.add(layers.Dropout(0.5))\n",
    "model.add(layers.Dense(1, activation='sigmoid'))\n",
    "    "
   ]
  },
  {
   "cell_type": "code",
   "execution_count": 14,
   "metadata": {},
   "outputs": [
    {
     "name": "stdout",
     "output_type": "stream",
     "text": [
      "Model: \"sequential\"\n",
      "_________________________________________________________________\n",
      "Layer (type)                 Output Shape              Param #   \n",
      "=================================================================\n",
      "conv2d (Conv2D)              (None, 15, 27, 32)        160       \n",
      "_________________________________________________________________\n",
      "max_pooling2d (MaxPooling2D) (None, 7, 13, 32)         0         \n",
      "_________________________________________________________________\n",
      "conv2d_1 (Conv2D)            (None, 6, 12, 32)         4128      \n",
      "_________________________________________________________________\n",
      "max_pooling2d_1 (MaxPooling2 (None, 3, 6, 32)          0         \n",
      "_________________________________________________________________\n",
      "conv2d_2 (Conv2D)            (None, 2, 5, 64)          8256      \n",
      "_________________________________________________________________\n",
      "max_pooling2d_2 (MaxPooling2 (None, 1, 2, 64)          0         \n",
      "_________________________________________________________________\n",
      "flatten (Flatten)            (None, 128)               0         \n",
      "_________________________________________________________________\n",
      "dense (Dense)                (None, 64)                8256      \n",
      "_________________________________________________________________\n",
      "dropout (Dropout)            (None, 64)                0         \n",
      "_________________________________________________________________\n",
      "dense_1 (Dense)              (None, 1)                 65        \n",
      "=================================================================\n",
      "Total params: 20,865\n",
      "Trainable params: 20,865\n",
      "Non-trainable params: 0\n",
      "_________________________________________________________________\n",
      "None\n"
     ]
    }
   ],
   "source": [
    "# create network\n",
    "input_shape = (1,31,16) \n",
    "model.build(input_shape)\n",
    "\n",
    "# compile model\n",
    "optimiser = tensorflow.optimizers.Adam(learning_rate=0.0001)\n",
    "model.compile(optimizer=optimiser, loss='sparse_categorical_crossentropy', metrics=['accuracy'])\n",
    "print(model.summary())"
   ]
  },
  {
   "cell_type": "code",
   "execution_count": 15,
   "metadata": {},
   "outputs": [
    {
     "name": "stdout",
     "output_type": "stream",
     "text": [
      "Model: \"sequential\"\n",
      "_________________________________________________________________\n",
      "Layer (type)                 Output Shape              Param #   \n",
      "=================================================================\n",
      "conv2d (Conv2D)              (None, 15, 27, 32)        160       \n",
      "_________________________________________________________________\n",
      "max_pooling2d (MaxPooling2D) (None, 7, 13, 32)         0         \n",
      "_________________________________________________________________\n",
      "conv2d_1 (Conv2D)            (None, 6, 12, 32)         4128      \n",
      "_________________________________________________________________\n",
      "max_pooling2d_1 (MaxPooling2 (None, 3, 6, 32)          0         \n",
      "_________________________________________________________________\n",
      "conv2d_2 (Conv2D)            (None, 2, 5, 64)          8256      \n",
      "_________________________________________________________________\n",
      "max_pooling2d_2 (MaxPooling2 (None, 1, 2, 64)          0         \n",
      "_________________________________________________________________\n",
      "flatten (Flatten)            (None, 128)               0         \n",
      "_________________________________________________________________\n",
      "dense (Dense)                (None, 64)                8256      \n",
      "_________________________________________________________________\n",
      "dropout (Dropout)            (None, 64)                0         \n",
      "_________________________________________________________________\n",
      "dense_1 (Dense)              (None, 1)                 65        \n",
      "=================================================================\n",
      "Total params: 20,865\n",
      "Trainable params: 20,865\n",
      "Non-trainable params: 0\n",
      "_________________________________________________________________\n"
     ]
    }
   ],
   "source": [
    "# Display model\n",
    "model.summary() # total parameters: no. of weights or other parameters that can be trained in the model, gives an idea of how many math operations are needed to train model, as low as possible."
   ]
  },
  {
   "cell_type": "raw",
   "metadata": {},
   "source": []
  },
  {
   "cell_type": "code",
   "execution_count": 16,
   "metadata": {},
   "outputs": [],
   "source": [
    "# Add training parameters to model, can be changed to affect training performance\n",
    "model.compile(loss='binary_crossentropy', # calc. how far the prediction is from the actual value during training, binary classification problem\n",
    "              optimizer='rmsprop', # sgd, rmsprop, adam. \n",
    "              metrics=['acc']) #"
   ]
  },
  {
   "cell_type": "code",
   "execution_count": 17,
   "metadata": {},
   "outputs": [
    {
     "name": "stdout",
     "output_type": "stream",
     "text": [
      "Epoch 1/30\n",
      "107/107 [==============================] - 2s 17ms/step - loss: 0.0396 - acc: 0.9833 - val_loss: 2.1856e-05 - val_acc: 1.0000\n",
      "Epoch 2/30\n",
      "107/107 [==============================] - 2s 15ms/step - loss: 0.0012 - acc: 0.9996 - val_loss: 9.1008e-07 - val_acc: 1.0000\n",
      "Epoch 3/30\n",
      "107/107 [==============================] - 2s 17ms/step - loss: 1.8672e-04 - acc: 0.9999 - val_loss: 9.7717e-09 - val_acc: 1.0000\n",
      "Epoch 4/30\n",
      "107/107 [==============================] - 2s 20ms/step - loss: 1.4499e-05 - acc: 1.0000 - val_loss: 6.1025e-11 - val_acc: 1.0000\n",
      "Epoch 5/30\n",
      "107/107 [==============================] - 2s 20ms/step - loss: 4.7559e-06 - acc: 1.0000 - val_loss: 3.7243e-11 - val_acc: 1.0000\n",
      "Epoch 6/30\n",
      "107/107 [==============================] - 2s 19ms/step - loss: 1.2775e-04 - acc: 1.0000 - val_loss: 4.4253e-12 - val_acc: 1.0000\n",
      "Epoch 7/30\n",
      "107/107 [==============================] - 2s 19ms/step - loss: 8.9316e-07 - acc: 1.0000 - val_loss: 9.5728e-12 - val_acc: 1.0000\n",
      "Epoch 8/30\n",
      "107/107 [==============================] - 2s 20ms/step - loss: 2.4780e-07 - acc: 1.0000 - val_loss: 2.7954e-14 - val_acc: 1.0000\n",
      "Epoch 9/30\n",
      "107/107 [==============================] - 2s 19ms/step - loss: 5.9686e-08 - acc: 1.0000 - val_loss: 2.1900e-14 - val_acc: 1.0000\n",
      "Epoch 10/30\n",
      "107/107 [==============================] - 2s 20ms/step - loss: 9.3242e-10 - acc: 1.0000 - val_loss: 1.6095e-14 - val_acc: 1.0000\n",
      "Epoch 11/30\n",
      "107/107 [==============================] - 2s 21ms/step - loss: 6.4971e-06 - acc: 1.0000 - val_loss: 2.3713e-15 - val_acc: 1.0000\n",
      "Epoch 12/30\n",
      "107/107 [==============================] - 2s 20ms/step - loss: 1.4154e-05 - acc: 1.0000 - val_loss: 7.4828e-15 - val_acc: 1.0000\n",
      "Epoch 13/30\n",
      "107/107 [==============================] - 2s 19ms/step - loss: 1.4986e-08 - acc: 1.0000 - val_loss: 2.0630e-14 - val_acc: 1.0000\n",
      "Epoch 14/30\n",
      "107/107 [==============================] - 2s 20ms/step - loss: 6.0578e-08 - acc: 1.0000 - val_loss: 6.0001e-15 - val_acc: 1.0000\n",
      "Epoch 15/30\n",
      "107/107 [==============================] - 2s 20ms/step - loss: 7.3711e-06 - acc: 1.0000 - val_loss: 1.4225e-16 - val_acc: 1.0000\n",
      "Epoch 16/30\n",
      "107/107 [==============================] - 2s 19ms/step - loss: 3.4282e-08 - acc: 1.0000 - val_loss: 5.4788e-16 - val_acc: 1.0000\n",
      "Epoch 17/30\n",
      "107/107 [==============================] - 2s 19ms/step - loss: 4.2894e-08 - acc: 1.0000 - val_loss: 1.5226e-18 - val_acc: 1.0000\n",
      "Epoch 18/30\n",
      "107/107 [==============================] - 2s 20ms/step - loss: 3.6839e-10 - acc: 1.0000 - val_loss: 1.6534e-18 - val_acc: 1.0000\n",
      "Epoch 19/30\n",
      "107/107 [==============================] - 2s 22ms/step - loss: 2.6468e-08 - acc: 1.0000 - val_loss: 1.6449e-20 - val_acc: 1.0000\n",
      "Epoch 20/30\n",
      "107/107 [==============================] - 2s 20ms/step - loss: 1.9411e-07 - acc: 1.0000 - val_loss: 1.9163e-17 - val_acc: 1.0000\n",
      "Epoch 21/30\n",
      "107/107 [==============================] - 2s 20ms/step - loss: 2.6961e-08 - acc: 1.0000 - val_loss: 5.7623e-20 - val_acc: 1.0000\n",
      "Epoch 22/30\n",
      "107/107 [==============================] - 2s 20ms/step - loss: 1.7966e-09 - acc: 1.0000 - val_loss: 7.6016e-20 - val_acc: 1.0000\n",
      "Epoch 23/30\n",
      "107/107 [==============================] - 2s 20ms/step - loss: 5.0787e-10 - acc: 1.0000 - val_loss: 3.5057e-20 - val_acc: 1.0000\n",
      "Epoch 24/30\n",
      "107/107 [==============================] - 2s 21ms/step - loss: 1.8537e-09 - acc: 1.0000 - val_loss: 4.1714e-20 - val_acc: 1.0000\n",
      "Epoch 25/30\n",
      "107/107 [==============================] - 2s 21ms/step - loss: 1.7050e-09 - acc: 1.0000 - val_loss: 5.0975e-20 - val_acc: 1.0000\n",
      "Epoch 26/30\n",
      "107/107 [==============================] - 2s 21ms/step - loss: 6.2677e-05 - acc: 1.0000 - val_loss: 5.0955e-20 - val_acc: 1.0000\n",
      "Epoch 27/30\n",
      "107/107 [==============================] - 2s 20ms/step - loss: 6.2513e-05 - acc: 1.0000 - val_loss: 7.3085e-20 - val_acc: 1.0000\n",
      "Epoch 28/30\n",
      "107/107 [==============================] - 2s 20ms/step - loss: 8.5539e-09 - acc: 1.0000 - val_loss: 8.5357e-20 - val_acc: 1.0000\n",
      "Epoch 29/30\n",
      "107/107 [==============================] - 2s 20ms/step - loss: 1.1604e-09 - acc: 1.0000 - val_loss: 6.0973e-20 - val_acc: 1.0000\n",
      "Epoch 30/30\n",
      "107/107 [==============================] - 2s 20ms/step - loss: 4.6071e-10 - acc: 1.0000 - val_loss: 6.0132e-20 - val_acc: 1.0000\n"
     ]
    }
   ],
   "source": [
    "# Train\n",
    "history = model.fit(x_train, \n",
    "                    y_train, \n",
    "                    epochs=30, # can be changed to affect performance\n",
    "                    batch_size=100, # \" \"\n",
    "                    validation_data=(x_val, y_val))"
   ]
  },
  {
   "cell_type": "code",
   "execution_count": 20,
   "metadata": {},
   "outputs": [
    {
     "data": {
      "image/png": "[encoded data removed]",
      "text/plain": [
       "<Figure size 432x288 with 1 Axes>"
      ]
     },
     "metadata": {
      "needs_background": "light"
     },
     "output_type": "display_data"
    },
    {
     "data": {
      "image/png": "[encoded data removed]",
      "text/plain": [
       "<Figure size 432x288 with 1 Axes>"
      ]
     },
     "metadata": {
      "needs_background": "light"
     },
     "output_type": "display_data"
    }
   ],
   "source": [
    "# Plot results\n",
    "import matplotlib.pyplot as plt\n",
    "\n",
    "acc = history.history['acc']\n",
    "val_acc = history.history['val_acc']\n",
    "loss = history.history['loss']\n",
    "val_loss = history.history['val_loss']\n",
    "\n",
    "epochs = range(1, len(acc) + 1)\n",
    "\n",
    "plt.plot(epochs, acc, 'bo', label='Training acc')\n",
    "plt.plot(epochs, val_acc, 'b', label='Validation acc')\n",
    "plt.title('Training and validation accuracy')\n",
    "plt.legend()\n",
    "\n",
    "plt.figure()\n",
    "\n",
    "plt.plot(epochs, loss, 'bo', label='Training loss')\n",
    "plt.plot(epochs, val_loss, 'b', label='Validation loss')\n",
    "plt.title('Training and validation loss')\n",
    "plt.legend()\n",
    "\n",
    "plt.show()"
   ]
  },
  {
   "cell_type": "code",
   "execution_count": 21,
   "metadata": {},
   "outputs": [],
   "source": [
    "# Save the model as a file\n",
    "#models.save_model(model, model_filename)\n",
    "\n",
    "models.save_model(\n",
    "    model, model_filename, overwrite=True, include_optimizer=True, save_format='h5',\n",
    "    signatures=None, options=None)"
   ]
  },
  {
   "cell_type": "code",
   "execution_count": 22,
   "metadata": {},
   "outputs": [
    {
     "name": "stdout",
     "output_type": "stream",
     "text": [
      "56/56 [==============================] - 0s 3ms/step - loss: 1.4130e-19 - acc: 1.0000\n"
     ]
    },
    {
     "data": {
      "text/plain": [
       "[1.4129609710416425e-19, 1.0]"
      ]
     },
     "execution_count": 22,
     "metadata": {},
     "output_type": "execute_result"
    }
   ],
   "source": [
    "# Evaluate model with test set\n",
    "model.evaluate(x=x_test, y=y_test)"
   ]
  },
  {
   "cell_type": "code",
   "execution_count": null,
   "metadata": {},
   "outputs": [],
   "source": []
  }
 ],
 "metadata": {
  "kernelspec": {
   "display_name": "Python 3",
   "language": "python",
   "name": "python3"
  },
  "language_info": {
   "codemirror_mode": {
    "name": "ipython",
    "version": 3
   },
   "file_extension": ".py",
   "mimetype": "text/x-python",
   "name": "python",
   "nbconvert_exporter": "python",
   "pygments_lexer": "ipython3",
   "version": "3.7.4"
  }
 },
 "nbformat": 4,
 "nbformat_minor": 2
}
